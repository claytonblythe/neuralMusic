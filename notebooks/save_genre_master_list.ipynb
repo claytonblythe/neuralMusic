{
 "cells": [
  {
   "cell_type": "code",
   "execution_count": 9,
   "metadata": {},
   "outputs": [],
   "source": [
    "import IPython.display as ipd\n",
    "import pandas as pd\n",
    "import matplotlib.pyplot as plt\n",
    "import utils\n",
    "import os"
   ]
  },
  {
   "cell_type": "code",
   "execution_count": 26,
   "metadata": {},
   "outputs": [],
   "source": [
    "data_dir = '../data/fma_metadata/'\n",
    "echonest = utils.load(data_dir + 'echonest.csv')\n",
    "# Load metadata and features.\n",
    "tracks = utils.load(data_dir + 'tracks.csv')"
   ]
  },
  {
   "cell_type": "code",
   "execution_count": 27,
   "metadata": {},
   "outputs": [
    {
     "data": {
      "text/plain": [
       "Int64Index([     2,      3,      5,     10,     20,     26,     30,     46,\n",
       "                48,    134,\n",
       "            ...\n",
       "            155310, 155311, 155312, 155314, 155315, 155316, 155317, 155318,\n",
       "            155319, 155320],\n",
       "           dtype='int64', name='track_id', length=106574)"
      ]
     },
     "execution_count": 27,
     "metadata": {},
     "output_type": "execute_result"
    }
   ],
   "source": [
    "tracks.index "
   ]
  },
  {
   "cell_type": "code",
   "execution_count": 42,
   "metadata": {},
   "outputs": [
    {
     "data": {
      "text/plain": [
       "track_id\n",
       "2           Hip-Hop\n",
       "3           Hip-Hop\n",
       "5           Hip-Hop\n",
       "10              Pop\n",
       "20              NaN\n",
       "26              NaN\n",
       "30              NaN\n",
       "46              NaN\n",
       "48              NaN\n",
       "134         Hip-Hop\n",
       "135            Rock\n",
       "136            Rock\n",
       "137    Experimental\n",
       "138    Experimental\n",
       "139            Folk\n",
       "Name: genre_top, dtype: category\n",
       "Categories (16, object): [Blues, Classical, Country, Easy Listening, ..., Pop, Rock, Soul-RnB, Spoken]"
      ]
     },
     "execution_count": 42,
     "metadata": {},
     "output_type": "execute_result"
    }
   ],
   "source": [
    "track_genres_df = tracks['track']['genre_top']\n",
    "track_genres_df.head(15)"
   ]
  },
  {
   "cell_type": "code",
   "execution_count": 38,
   "metadata": {},
   "outputs": [
    {
     "data": {
      "text/plain": [
       "Int64Index([     2,      3,      5,     10,     20,     26,     30,     46,\n",
       "                48,    134,\n",
       "            ...\n",
       "            155310, 155311, 155312, 155314, 155315, 155316, 155317, 155318,\n",
       "            155319, 155320],\n",
       "           dtype='int64', name='track_id', length=106574)"
      ]
     },
     "execution_count": 38,
     "metadata": {},
     "output_type": "execute_result"
    }
   ],
   "source": [
    "track_genres_df.index"
   ]
  },
  {
   "cell_type": "code",
   "execution_count": 61,
   "metadata": {},
   "outputs": [
    {
     "data": {
      "text/plain": [
       "000002         Hip-Hop\n",
       "000003         Hip-Hop\n",
       "000005         Hip-Hop\n",
       "000010             Pop\n",
       "000020             NaN\n",
       "000026             NaN\n",
       "000030             NaN\n",
       "000046             NaN\n",
       "000048             NaN\n",
       "000134         Hip-Hop\n",
       "000135            Rock\n",
       "000136            Rock\n",
       "000137    Experimental\n",
       "000138    Experimental\n",
       "000139            Folk\n",
       "000140            Folk\n",
       "000141            Folk\n",
       "000142            Folk\n",
       "000144            Jazz\n",
       "000145            Jazz\n",
       "000146            Jazz\n",
       "000147            Jazz\n",
       "000148    Experimental\n",
       "000149    Experimental\n",
       "000150    Experimental\n",
       "000151            Rock\n",
       "000152            Rock\n",
       "000153            Rock\n",
       "000154            Rock\n",
       "000155            Rock\n",
       "              ...     \n",
       "155290    Instrumental\n",
       "155291    Instrumental\n",
       "155292    Instrumental\n",
       "155293    Instrumental\n",
       "155294    Instrumental\n",
       "155295    Instrumental\n",
       "155296    Instrumental\n",
       "155297    Instrumental\n",
       "155298            Folk\n",
       "155299            Folk\n",
       "155300            Folk\n",
       "155301            Folk\n",
       "155302            Folk\n",
       "155303            Folk\n",
       "155304            Folk\n",
       "155305            Folk\n",
       "155306            Folk\n",
       "155307    Experimental\n",
       "155308    Experimental\n",
       "155309    Experimental\n",
       "155310    Experimental\n",
       "155311    Experimental\n",
       "155312    Experimental\n",
       "155314            Rock\n",
       "155315            Rock\n",
       "155316            Rock\n",
       "155317            Rock\n",
       "155318            Rock\n",
       "155319            Rock\n",
       "155320             NaN\n",
       "Name: genre_top, Length: 106574, dtype: category\n",
       "Categories (16, object): [Blues, Classical, Country, Easy Listening, ..., Pop, Rock, Soul-RnB, Spoken]"
      ]
     },
     "execution_count": 61,
     "metadata": {},
     "output_type": "execute_result"
    }
   ],
   "source": [
    "track_genres_df.index = [str(item).zfill(6) for item in track_genres_df.index]\n",
    "track_genres_df"
   ]
  },
  {
   "cell_type": "code",
   "execution_count": null,
   "metadata": {
    "collapsed": true
   },
   "outputs": [],
   "source": []
  }
 ],
 "metadata": {
  "kernelspec": {
   "display_name": "Python 3",
   "language": "python",
   "name": "python3"
  },
  "language_info": {
   "codemirror_mode": {
    "name": "ipython",
    "version": 3
   },
   "file_extension": ".py",
   "mimetype": "text/x-python",
   "name": "python",
   "nbconvert_exporter": "python",
   "pygments_lexer": "ipython3",
   "version": "3.6.3"
  }
 },
 "nbformat": 4,
 "nbformat_minor": 2
}
