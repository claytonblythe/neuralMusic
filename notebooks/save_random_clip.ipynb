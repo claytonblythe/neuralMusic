{
 "cells": [
  {
   "cell_type": "code",
   "execution_count": 11,
   "metadata": {
    "collapsed": true
   },
   "outputs": [],
   "source": [
    "import librosa\n",
    "import librosa.display\n",
    "import torchaudio\n",
    "import numpy as np\n",
    "import random"
   ]
  },
  {
   "cell_type": "code",
   "execution_count": 12,
   "metadata": {
    "collapsed": true
   },
   "outputs": [],
   "source": [
    "base_path = '/Users/claytonblythe/github/neuralMusic/data/'\n",
    "filename = 'crowd-cheering.mp3'\n",
    "save_path = '/Users/claytonblythe/github/neuralMusic/data/saved_samples/'"
   ]
  },
  {
   "cell_type": "code",
   "execution_count": 13,
   "metadata": {
    "scrolled": true
   },
   "outputs": [
    {
     "name": "stdout",
     "output_type": "stream",
     "text": [
      "CPU times: user 196 ms, sys: 25.1 ms, total: 221 ms\n",
      "Wall time: 264 ms\n"
     ]
    }
   ],
   "source": [
    "%%time\n",
    "y, sr = librosa.load(base_path + filename, mono=True,  sr=None)\n",
    "song_duration = librosa.core.get_duration(y, sr)\n",
    "random_offset = random.uniform(0,song_duration)\n",
    "y, sr = librosa.load(base_path + filename, mono=True,  offset=random_offset, duration= 5.94, sr=None)\n",
    "librosa.output.write_wav(y=y, sr=sr, path=save_path + filename.strip('.mp3') + '.wav')"
   ]
  },
  {
   "cell_type": "code",
   "execution_count": null,
   "metadata": {
    "collapsed": true
   },
   "outputs": [],
   "source": []
  }
 ],
 "metadata": {
  "kernelspec": {
   "display_name": "Python 3",
   "language": "python",
   "name": "python3"
  },
  "language_info": {
   "codemirror_mode": {
    "name": "ipython",
    "version": 3
   },
   "file_extension": ".py",
   "mimetype": "text/x-python",
   "name": "python",
   "nbconvert_exporter": "python",
   "pygments_lexer": "ipython3",
   "version": "3.6.1"
  }
 },
 "nbformat": 4,
 "nbformat_minor": 2
}
